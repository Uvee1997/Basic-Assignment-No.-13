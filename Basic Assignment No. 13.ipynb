{
 "cells": [
  {
   "cell_type": "markdown",
   "id": "7c93c932",
   "metadata": {},
   "source": [
    "1) What advantages do Excel spreadsheets have over CSV spreadsheets ?\n",
    "\n",
    ":- Excel is more superior when we use excel spreadsheets over CSV spreadsheets"
   ]
  },
  {
   "cell_type": "markdown",
   "id": "b0f2a5f2",
   "metadata": {},
   "source": [
    "2) What do you pass to csv.reader() and csv.writer() to create reader and writer objects ?\n",
    "\n",
    ":- For csv.reader() we pass 'r' & for csv.write() we pass 'w'"
   ]
  },
  {
   "cell_type": "markdown",
   "id": "fc84439f",
   "metadata": {},
   "source": [
    "3) What modes do File objects for reader and writer objects need to be opened in ?\n",
    "\n",
    ":- open() function"
   ]
  },
  {
   "cell_type": "markdown",
   "id": "3d4a22cd",
   "metadata": {},
   "source": [
    "4) What method takes a list argument and writes it to a CSV file ?\n",
    "\n",
    ":- writerows()"
   ]
  },
  {
   "cell_type": "markdown",
   "id": "54c6651e",
   "metadata": {},
   "source": [
    "5) What do the keyword arguments delimiter and line terminator do ?\n",
    "\n",
    ":- The line terminator is the character that comes at the end of row. By default line terminator is the new line.\n",
    "   We can change charaters to different values by using delimiter & line terminator "
   ]
  },
  {
   "cell_type": "markdown",
   "id": "7fbc0d7c",
   "metadata": {},
   "source": [
    "6) What function takes a string of JSON data and returns a Python data structure ?\n",
    "\n",
    ":- loads() method return python data structure of JASON string or data"
   ]
  },
  {
   "cell_type": "markdown",
   "id": "2bbc44b7",
   "metadata": {},
   "source": [
    "7) What function takes a Python data structure and returns a string of JSON data ?\n",
    "\n",
    ":- loads()"
   ]
  }
 ],
 "metadata": {
  "kernelspec": {
   "display_name": "Python 3 (ipykernel)",
   "language": "python",
   "name": "python3"
  },
  "language_info": {
   "codemirror_mode": {
    "name": "ipython",
    "version": 3
   },
   "file_extension": ".py",
   "mimetype": "text/x-python",
   "name": "python",
   "nbconvert_exporter": "python",
   "pygments_lexer": "ipython3",
   "version": "3.9.7"
  }
 },
 "nbformat": 4,
 "nbformat_minor": 5
}
